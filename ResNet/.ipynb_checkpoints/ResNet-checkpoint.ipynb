{
 "cells": [
  {
   "cell_type": "code",
   "execution_count": 18,
   "metadata": {
    "collapsed": true
   },
   "outputs": [],
   "source": [
    "# ResNet class\n",
    "\n",
    "import chainer\n",
    "import chainer.functions as F\n",
    "import chainer.links as L\n",
    "from chainer import optimizers\n",
    "from chainer import Variable\n",
    "from chainer import cuda\n",
    "\n",
    "import math\n",
    "import numpy as np\n",
    "\n",
    "class ResBlock(chainer.Chain):\n",
    "    def __init__(self, n_in, n_out, stride=1, ksize=1):\n",
    "        w = math.sqrt(2)\n",
    "        super(ResBlock, self).__init__(\n",
    "            conv1 = L.Convolution2D(n_in, n_out, 3, stride, 1, w),\n",
    "            bn1 = L.BatchNormalization(n_out),\n",
    "            conv2 = L.Convolution2D(n_out, n_out, 3, 1, 1, w),\n",
    "            bn2 = L.BatchNormalization(n_out),\n",
    "        )\n",
    "        \n",
    "    def __call__(self, x, train):\n",
    "        h1 = F.relu(self.bn1(self.conv1(x), test=not train))\n",
    "        h2 = self.bn2(self.conv2(h1), test=not train)\n",
    "        if x.data.shape != h2.data.shape:\n",
    "            xp = cuda.get_array_module(x.data)\n",
    "            n, c, hh, ww = x.data.shape\n",
    "            pada_c = h2.data.shape[1] - c\n",
    "            p = xp.zeros((n, pad_c, hh, ww), dtype=xp.float32)\n",
    "            p = Variable(p, volatile=not train)\n",
    "            x = F.concat((p, x))\n",
    "            if x.data.shape[2:] != h2.data.shape[2:]:\n",
    "                x = F.average_pooling_2d(x, 1, 2)\n",
    "        return F.relu(h2 + x)\n",
    "\n",
    "class ResNet(chainer.Chain):\n",
    "    def __init__(self, block_class, n=18):\n",
    "        super(ResNet, self).__init__()\n",
    "        with self.init_scope():\n",
    "            w = math.sqrt(2)\n",
    "            links = [('conv1', L.Convolution2D(3, 16, 3, 1, 0, w))]\n",
    "            links += [('bn1', L.BatchNormalization(16))]\n",
    "            for i in range(n):\n",
    "                links += [('res{}'.format(len(links)), block_class(16, 16))]\n",
    "            for i in range(n):\n",
    "                links += [('res{}'.format((len(links)), \n",
    "                                          block_class(32 if i > 0 else 16, 32,\n",
    "                                                     1 if i > 0 else 2)))]\n",
    "            for i in range(n):\n",
    "                links += [('res{}'.format((len(links)), \n",
    "                                          block_class(64 if i > 0 else 32, 64,\n",
    "                                                     1 if i > 0 else 2)))]\n",
    "            links += [('_apool{}'.format(len(links)),\n",
    "                      F.AveragePooling2D(6, 1, 0, False, True))]\n",
    "            links += [('fc{}'.format(len(links)),\n",
    "                      L.Linear(64, 10))]\n",
    "            for link in links:\n",
    "                if not link[0].startswith('_'):\n",
    "                    self.add_link(*link)\n",
    "            self.forward = links\n",
    "            self.train = True\n",
    "            \n",
    "    def __call__(self, x):\n",
    "        for name, f in self.forward:\n",
    "            if 'res' in name:\n",
    "                h = f(x, self.train)\n",
    "            else:\n",
    "                h = f(x)\n",
    "        return h"
   ]
  },
  {
   "cell_type": "code",
   "execution_count": 14,
   "metadata": {
    "collapsed": false
   },
   "outputs": [],
   "source": [
    "# MNIST data set\n",
    "\n",
    "train, test = chainer.datasets.get_mnist()\n",
    "_xs, ts = train._datasets\n",
    "_txs, tts = test._datasets\n",
    "\n",
    "size = 10000\n",
    "_xs = _xs[:size]\n",
    "ts = ts[:size]\n",
    "_txs = _txs[:size]\n",
    "tts = tts[:size]"
   ]
  },
  {
   "cell_type": "code",
   "execution_count": 15,
   "metadata": {
    "collapsed": false
   },
   "outputs": [],
   "source": [
    "# padding (60000, 784) -> (60000, 1, 28, 28) -> (60000, 1, 32, 32)\n",
    "\n",
    "_v0 = np.row_stack((np.zeros(28), np.zeros(28)))\n",
    "v0 = np.array(_v0)\n",
    "_h0 = np.column_stack((np.zeros(32), np.zeros(32)))\n",
    "h0 = np.array(_h0)\n",
    "\n",
    "def padding(x):\n",
    "    tmp1 = np.vstack((x, v0))\n",
    "    tmp2 = np.vstack((v0, tmp1))\n",
    "    _tmp1 = np.hstack((tmp2, h0))\n",
    "    _tmp2 = np.hstack((h0, _tmp1))\n",
    "    return _tmp2\n",
    "\n",
    "xs_list = []\n",
    "for i in range(len(_xs)):\n",
    "    x = np.reshape(_xs[i], (28, 28))\n",
    "    pad_x = padding(x)\n",
    "    xs_list.append(pad_x[np.newaxis, :, :])\n",
    "txs_list = []\n",
    "for i in range(len(_txs)):\n",
    "    tx = np.reshape(_txs[i], (28, 28))\n",
    "    pad_tx = padding(tx)\n",
    "    txs_list.append(pad_tx[np.newaxis, :, :])\n",
    "    \n",
    "xs = np.array(xs_list, dtype=np.float32)\n",
    "txs = np.array(txs_list, dtype=np.float32)"
   ]
  },
  {
   "cell_type": "code",
   "execution_count": 16,
   "metadata": {
    "collapsed": true
   },
   "outputs": [],
   "source": [
    "# method\n",
    "\n",
    "def check_accuracy(model, xs, ts, batchsize):\n",
    "    loss = 0\n",
    "    num_cors = 0\n",
    "    for i in range(0, len(xs), batchsize):\n",
    "        x = xs[i:i + batchsize]\n",
    "        t = ts[i:i + batchsize]\n",
    "        \n",
    "        #var_xs = Variable(cuda.to_gpu(x))\n",
    "        var_xs = Variable(x)\n",
    "        t = Variable(np.array(t, \"i\"))\n",
    "        ys = model(var_xs)\n",
    "    \n",
    "        loss += F.softmax_cross_entropy(ys, t)\n",
    "        ys = np.argmax(ys.data, axis=1)\n",
    "        #_t = cuda.to_gpu(np.array(cuda.to_cpu(t.data), dtype=np.float32))\n",
    "        _t = np.array(t.data, dtype=np.float32)\n",
    "        cors = (ys == _t)\n",
    "        num_cors += sum(cors)\n",
    "    accuracy = num_cors / ts.shape[0]\n",
    "    return accuracy, loss"
   ]
  },
  {
   "cell_type": "code",
   "execution_count": 19,
   "metadata": {
    "collapsed": false
   },
   "outputs": [
    {
     "ename": "TypeError",
     "evalue": "__init__() takes from 2 to 5 positional arguments but 6 were given",
     "output_type": "error",
     "traceback": [
      "\u001b[0;31m---------------------------------------------------------------------------\u001b[0m",
      "\u001b[0;31mTypeError\u001b[0m                                 Traceback (most recent call last)",
      "\u001b[0;32m<ipython-input-19-17de3d4c971b>\u001b[0m in \u001b[0;36m<module>\u001b[0;34m()\u001b[0m\n\u001b[1;32m      1\u001b[0m \u001b[1;31m# learn\u001b[0m\u001b[1;33m\u001b[0m\u001b[1;33m\u001b[0m\u001b[0m\n\u001b[1;32m      2\u001b[0m \u001b[1;33m\u001b[0m\u001b[0m\n\u001b[0;32m----> 3\u001b[0;31m \u001b[0mmodel\u001b[0m \u001b[1;33m=\u001b[0m \u001b[0mResNet\u001b[0m\u001b[1;33m(\u001b[0m\u001b[0mResBlock\u001b[0m\u001b[1;33m)\u001b[0m\u001b[1;33m\u001b[0m\u001b[0m\n\u001b[0m\u001b[1;32m      4\u001b[0m \u001b[0moptimizer\u001b[0m \u001b[1;33m=\u001b[0m \u001b[0moptimizers\u001b[0m\u001b[1;33m.\u001b[0m\u001b[0mMomentumSGD\u001b[0m\u001b[1;33m(\u001b[0m\u001b[1;33m)\u001b[0m\u001b[1;33m\u001b[0m\u001b[0m\n\u001b[1;32m      5\u001b[0m \u001b[0moptimizer\u001b[0m\u001b[1;33m.\u001b[0m\u001b[0msetup\u001b[0m\u001b[1;33m(\u001b[0m\u001b[0mmodel\u001b[0m\u001b[1;33m)\u001b[0m\u001b[1;33m\u001b[0m\u001b[0m\n",
      "\u001b[0;32m<ipython-input-18-4002431d94e2>\u001b[0m in \u001b[0;36m__init__\u001b[0;34m(self, block_class, n)\u001b[0m\n\u001b[1;32m     53\u001b[0m                                                      1 if i > 0 else 2)))]\n\u001b[1;32m     54\u001b[0m             links += [('_apool{}'.format(len(links)),\n\u001b[0;32m---> 55\u001b[0;31m                       F.AveragePooling2D(6, 1, 0, False, True))]\n\u001b[0m\u001b[1;32m     56\u001b[0m             links += [('fc{}'.format(len(links)),\n\u001b[1;32m     57\u001b[0m                       L.Linear(64, 10))]\n",
      "\u001b[0;31mTypeError\u001b[0m: __init__() takes from 2 to 5 positional arguments but 6 were given"
     ]
    }
   ],
   "source": [
    "# learn\n",
    "\n",
    "model = ResNet(ResBlock)\n",
    "optimizer = optimizers.MomentumSGD()\n",
    "optimizer.setup(model)\n",
    "\n",
    "batchsize = 100\n",
    "datasize = len(xs)\n",
    "\n",
    "# use GPU\n",
    "chainer.cuda.get_device_from_id(0).use()\n",
    "model.to_gpu()\n",
    "\n",
    "xp = cuda.cupy\n",
    "\n",
    "for epoch in range(20):\n",
    "    for i in range(0, datasize, batchsize):\n",
    "        x = xs[i:i + batchsize]\n",
    "        t = ts[i:i + batchsize]\n",
    "        \n",
    "        var_x = Variable(cuda.to_gpu(x))\n",
    "        #var_x = Variable(x)\n",
    "        t = Variable(np.array(t, \"i\"))\n",
    "        y = model(var_x)\n",
    "        \n",
    "        model.cleargrads()\n",
    "        loss = F.softmax_cross_entropy(y, t)\n",
    "        loss.backward()\n",
    "        optimizer.update()\n",
    "    accuracy_train, loss_train = check_accuracy(model, xs, ts, batchsize)\n",
    "    accuracy_test, _           = check_accuracy(model, txs, tts, batchsize)\n",
    "    \n",
    "    optimizer.new_epoch()\n",
    "    \n",
    "    print(\"Epoch {0} loss(train) = {1}, accuracy(train) = {2}, accuracy(test) = {3}\".format(epoch + 1, loss_train, accuracy_train, accuracy_test))"
   ]
  },
  {
   "cell_type": "code",
   "execution_count": null,
   "metadata": {
    "collapsed": true
   },
   "outputs": [],
   "source": []
  },
  {
   "cell_type": "code",
   "execution_count": null,
   "metadata": {
    "collapsed": true
   },
   "outputs": [],
   "source": []
  },
  {
   "cell_type": "code",
   "execution_count": null,
   "metadata": {
    "collapsed": true
   },
   "outputs": [],
   "source": []
  }
 ],
 "metadata": {
  "anaconda-cloud": {},
  "kernelspec": {
   "display_name": "Python [default]",
   "language": "python",
   "name": "python3"
  },
  "language_info": {
   "codemirror_mode": {
    "name": "ipython",
    "version": 3
   },
   "file_extension": ".py",
   "mimetype": "text/x-python",
   "name": "python",
   "nbconvert_exporter": "python",
   "pygments_lexer": "ipython3",
   "version": "3.5.2"
  }
 },
 "nbformat": 4,
 "nbformat_minor": 1
}
