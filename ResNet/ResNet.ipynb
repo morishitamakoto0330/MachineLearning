{
 "cells": [
  {
   "cell_type": "code",
   "execution_count": 1,
   "metadata": {
    "collapsed": false
   },
   "outputs": [],
   "source": [
    "# ResNet class\n",
    "\n",
    "import chainer\n",
    "import chainer.functions as F\n",
    "import chainer.links as L\n",
    "from chainer import optimizers\n",
    "from chainer import Variable\n",
    "from chainer import cuda\n",
    "\n",
    "import numpy as np\n",
    "\n",
    "class ResBlock(chainer.Chain):\n",
    "    def __init__(self, n_in, n_out, stride=1, ksize=1):\n",
    "        super(ResBlock, self).__init__(\n",
    "            conv1 = L.Convolution2D(n_in, n_out, 3, stride, 1),\n",
    "            bn1 = L.BatchNormalization(n_out),\n",
    "            conv2 = L.Convolution2D(n_out, n_out, 3, 1, 1),\n",
    "            bn2 = L.BatchNormalization(n_out),\n",
    "        )\n",
    "        \n",
    "    def __call__(self, x):\n",
    "        h1 = F.relu(self.bn1(self.conv1(x)))\n",
    "        h2 = self.bn2(self.conv2(h1))\n",
    "        return F.relu(h2 + x)\n",
    "\n",
    "class ResNet(chainer.Chain):\n",
    "    def __init__(self, block_class, n=10):\n",
    "        super(ResNet, self).__init__()\n",
    "        with self.init_scope():\n",
    "            self.conv1 = L.Convolution2D(None, n, 5, 1)\n",
    "            self.bn1 = L.BatchNormalization(n)\n",
    "            self.bc1 = block_class(n, n)\n",
    "            self.l1 = L.Linear(None, 10)\n",
    "            \n",
    "    def __call__(self, x):\n",
    "        h1 = self.bn1(self.conv1(x))\n",
    "        h2 = self.bc1(h1)\n",
    "        h3 = self.l1(F.average_pooling_2d(h2, 28))\n",
    "        return h3"
   ]
  },
  {
   "cell_type": "code",
   "execution_count": 2,
   "metadata": {
    "collapsed": false
   },
   "outputs": [],
   "source": [
    "# MNIST data set\n",
    "\n",
    "train, test = chainer.datasets.get_mnist()\n",
    "_xs, ts = train._datasets\n",
    "_txs, tts = test._datasets\n",
    "\n",
    "size = 10000\n",
    "_xs = _xs[:size]\n",
    "ts = ts[:size]\n",
    "_txs = _txs[:size]\n",
    "tts = tts[:size]"
   ]
  },
  {
   "cell_type": "code",
   "execution_count": 3,
   "metadata": {
    "collapsed": false
   },
   "outputs": [],
   "source": [
    "# padding (60000, 784) -> (60000, 1, 28, 28) -> (60000, 1, 32, 32)\n",
    "\n",
    "_v0 = np.row_stack((np.zeros(28), np.zeros(28)))\n",
    "v0 = np.array(_v0)\n",
    "_h0 = np.column_stack((np.zeros(32), np.zeros(32)))\n",
    "h0 = np.array(_h0)\n",
    "\n",
    "def padding(x):\n",
    "    tmp1 = np.vstack((x, v0))\n",
    "    tmp2 = np.vstack((v0, tmp1))\n",
    "    _tmp1 = np.hstack((tmp2, h0))\n",
    "    _tmp2 = np.hstack((h0, _tmp1))\n",
    "    return _tmp2\n",
    "\n",
    "xs_list = []\n",
    "for i in range(len(_xs)):\n",
    "    x = np.reshape(_xs[i], (28, 28))\n",
    "    pad_x = padding(x)\n",
    "    xs_list.append(pad_x[np.newaxis, :, :])\n",
    "txs_list = []\n",
    "for i in range(len(_txs)):\n",
    "    tx = np.reshape(_txs[i], (28, 28))\n",
    "    pad_tx = padding(tx)\n",
    "    txs_list.append(pad_tx[np.newaxis, :, :])\n",
    "    \n",
    "xs = np.array(xs_list, dtype=np.float32)\n",
    "txs = np.array(txs_list, dtype=np.float32)"
   ]
  },
  {
   "cell_type": "code",
   "execution_count": 4,
   "metadata": {
    "collapsed": true
   },
   "outputs": [],
   "source": [
    "# method\n",
    "\n",
    "def check_accuracy(model, xs, ts, batchsize):\n",
    "    loss = 0\n",
    "    num_cors = 0\n",
    "    for i in range(0, len(xs), batchsize):\n",
    "        x = xs[i:i + batchsize]\n",
    "        t = ts[i:i + batchsize]\n",
    "        \n",
    "        #var_xs = Variable(cuda.to_gpu(x))\n",
    "        var_xs = Variable(x)\n",
    "        #t = Variable(cuda.to_gpu(np.array(t, \"i\")))\n",
    "        t = Variable(np.array(t, \"i\"))\n",
    "        ys = model(var_xs)\n",
    "    \n",
    "        loss += F.softmax_cross_entropy(ys, t)\n",
    "        ys = np.argmax(ys.data, axis=1)\n",
    "        #_t = cuda.to_gpu(np.array(cuda.to_cpu(t.data), dtype=np.float32))\n",
    "        _t = np.array(t.data, dtype=np.float32)\n",
    "        cors = (ys == _t)\n",
    "        num_cors += sum(cors)\n",
    "    accuracy = num_cors / ts.shape[0]\n",
    "    return accuracy, loss"
   ]
  },
  {
   "cell_type": "code",
   "execution_count": 5,
   "metadata": {
    "collapsed": false
   },
   "outputs": [
    {
     "name": "stdout",
     "output_type": "stream",
     "text": [
      "Epoch 1 loss(train) = variable(219.75909423828125), accuracy(train) = 0.2522, accuracy(test) = 0.2618\n",
      "Epoch 2 loss(train) = variable(203.0090789794922), accuracy(train) = 0.3154, accuracy(test) = 0.3138\n",
      "Epoch 3 loss(train) = variable(183.86343383789062), accuracy(train) = 0.3829, accuracy(test) = 0.386\n",
      "Epoch 4 loss(train) = variable(162.5158233642578), accuracy(train) = 0.4525, accuracy(test) = 0.4597\n",
      "Epoch 5 loss(train) = variable(142.8485565185547), accuracy(train) = 0.5478, accuracy(test) = 0.56\n",
      "Epoch 6 loss(train) = variable(123.6399917602539), accuracy(train) = 0.6452, accuracy(test) = 0.6553\n",
      "Epoch 7 loss(train) = variable(107.07052612304688), accuracy(train) = 0.6996, accuracy(test) = 0.709\n",
      "Epoch 8 loss(train) = variable(95.35781860351562), accuracy(train) = 0.7382, accuracy(test) = 0.751\n",
      "Epoch 9 loss(train) = variable(83.79021453857422), accuracy(train) = 0.777, accuracy(test) = 0.7873\n",
      "Epoch 10 loss(train) = variable(76.54161071777344), accuracy(train) = 0.7945, accuracy(test) = 0.8059\n",
      "Epoch 11 loss(train) = variable(70.49852752685547), accuracy(train) = 0.8077, accuracy(test) = 0.8227\n",
      "Epoch 12 loss(train) = variable(65.19529724121094), accuracy(train) = 0.8226, accuracy(test) = 0.8384\n",
      "Epoch 13 loss(train) = variable(59.21805953979492), accuracy(train) = 0.8438, accuracy(test) = 0.8564\n",
      "Epoch 14 loss(train) = variable(55.06543731689453), accuracy(train) = 0.8588, accuracy(test) = 0.8683\n",
      "Epoch 15 loss(train) = variable(52.14336395263672), accuracy(train) = 0.8693, accuracy(test) = 0.8779\n",
      "Epoch 16 loss(train) = variable(49.44850540161133), accuracy(train) = 0.874, accuracy(test) = 0.8822\n",
      "Epoch 17 loss(train) = variable(46.95849609375), accuracy(train) = 0.879, accuracy(test) = 0.888\n",
      "Epoch 18 loss(train) = variable(45.1971435546875), accuracy(train) = 0.8865, accuracy(test) = 0.8956\n",
      "Epoch 19 loss(train) = variable(43.31447982788086), accuracy(train) = 0.8908, accuracy(test) = 0.8988\n",
      "Epoch 20 loss(train) = variable(41.44994354248047), accuracy(train) = 0.8935, accuracy(test) = 0.901\n"
     ]
    }
   ],
   "source": [
    "# learn\n",
    "\n",
    "model = ResNet(ResBlock)\n",
    "optimizer = optimizers.MomentumSGD()\n",
    "optimizer.setup(model)\n",
    "\n",
    "batchsize = 100\n",
    "datasize = len(xs)\n",
    "\n",
    "# use GPU\n",
    "#chainer.cuda.get_device_from_id(0).use()\n",
    "#model.to_gpu()\n",
    "\n",
    "#xp = cuda.cupy\n",
    "\n",
    "for epoch in range(20):\n",
    "    for i in range(0, datasize, batchsize):\n",
    "        x = xs[i:i + batchsize]\n",
    "        t = ts[i:i + batchsize]\n",
    "        \n",
    "        #var_x = Variable(cuda.to_gpu(x))\n",
    "        var_x = Variable(x)\n",
    "        #t = Variable(cuda.to_gpu(np.array(t, \"i\")))\n",
    "        t = Variable(np.array(t, \"i\"))\n",
    "        y = model(var_x)\n",
    "        \n",
    "        model.cleargrads()\n",
    "        loss = F.softmax_cross_entropy(y, t)\n",
    "        loss.backward()\n",
    "        optimizer.update()\n",
    "    accuracy_train, loss_train = check_accuracy(model, xs, ts, batchsize)\n",
    "    accuracy_test, _           = check_accuracy(model, txs, tts, batchsize)\n",
    "    \n",
    "    optimizer.new_epoch()\n",
    "    \n",
    "    print(\"Epoch {0} loss(train) = {1}, accuracy(train) = {2}, accuracy(test) = {3}\".format(epoch + 1, loss_train, accuracy_train, accuracy_test))"
   ]
  },
  {
   "cell_type": "code",
   "execution_count": null,
   "metadata": {
    "collapsed": true
   },
   "outputs": [],
   "source": []
  },
  {
   "cell_type": "code",
   "execution_count": null,
   "metadata": {
    "collapsed": true
   },
   "outputs": [],
   "source": []
  },
  {
   "cell_type": "code",
   "execution_count": null,
   "metadata": {
    "collapsed": true
   },
   "outputs": [],
   "source": []
  }
 ],
 "metadata": {
  "anaconda-cloud": {},
  "kernelspec": {
   "display_name": "Python [default]",
   "language": "python",
   "name": "python3"
  },
  "language_info": {
   "codemirror_mode": {
    "name": "ipython",
    "version": 3
   },
   "file_extension": ".py",
   "mimetype": "text/x-python",
   "name": "python",
   "nbconvert_exporter": "python",
   "pygments_lexer": "ipython3",
   "version": "3.5.2"
  }
 },
 "nbformat": 4,
 "nbformat_minor": 1
}
