{
 "cells": [
  {
   "cell_type": "code",
   "execution_count": 64,
   "metadata": {},
   "outputs": [
    {
     "name": "stdout",
     "output_type": "stream",
     "text": [
      "[ True  True  True  True  True False  True  True  True  True  True  True\n",
      " False  True  True  True  True False  True  True  True  True False  True\n",
      "  True  True  True  True  True  True]\n",
      "g(x)=0.620686649949618 * x1 + -0.5928461053020516 * x2 + -0.1176700142994672\n"
     ]
    }
   ],
   "source": [
    "import numpy\n",
    "\n",
    "def f(x, y):\n",
    "    return x - y\n",
    "\n",
    "numpy.random.seed()\n",
    "N = 30\n",
    "d = 2\n",
    "X = numpy.random.randn(N, d)\n",
    "T = numpy.array([1 if f(x, y) > 0 else -1 for x, y in X])\n",
    "alpha = numpy.zeros(N)\n",
    "beta = 1.0\n",
    "gamma_alpha = 0.0001\n",
    "gamma_beta = 0.1\n",
    "#lamda = 0.1\n",
    "itr = 10000\n",
    "#itr = 100\n",
    "\n",
    "for _itr in range(itr):\n",
    "    for i in range(N):\n",
    "        delta = 1 - (T[i]*X[i]).dot(alpha*T*X.T).sum() - beta*T[i]*alpha.dot(T)\n",
    "        #delta = 1 - (T[i]*X[i]).dot(alpha*T*X.T).sum() - beta*T[i]*alpha.dot(T) - lamda*T[i];\n",
    "        alpha[i] += gamma_alpha*delta\n",
    "    for i in range(N):\n",
    "        beta += gamma_beta*alpha.dot(T)**2/2\n",
    "    #lamda -= beta*alpha.dot(T)\n",
    "\n",
    "index = alpha > 0\n",
    "w = (alpha*T).T.dot(X)\n",
    "b = (T[index] - X[index].dot(w)).mean()\n",
    "print(index)\n",
    "print('g(x)={0} * x1 + {1} * x2 + {2}'.format(w[0], w[1], b))"
   ]
  },
  {
   "cell_type": "code",
   "execution_count": 67,
   "metadata": {},
   "outputs": [
    {
     "data": {
      "image/png": "[encoded data removed]",
      "text/plain": [
       "<Figure size 432x432 with 1 Axes>"
      ]
     },
     "metadata": {
      "needs_background": "light"
     },
     "output_type": "display_data"
    }
   ],
   "source": [
    "from matplotlib import pyplot\n",
    "\n",
    "seq = numpy.arange(-3, 3, 0.02)\n",
    "pyplot.figure(figsize = (6, 6))\n",
    "pyplot.xlim(-3, 3)\n",
    "pyplot.ylim(-3, 3)\n",
    "pyplot.plot(seq, -(w[0]*seq + b)/w[1], 'k-')\n",
    "pyplot.plot(X[T == 1,0], X[T == 1,1], 'ro')\n",
    "pyplot.plot(X[T == -1,0], X[T == -1,1], 'bo')\n",
    "pyplot.plot(X[index, 0], X[index, 1], 'go')\n",
    "pyplot.savefig('graph-2.png')"
   ]
  },
  {
   "cell_type": "code",
   "execution_count": null,
   "metadata": {},
   "outputs": [],
   "source": []
  }
 ],
 "metadata": {
  "kernelspec": {
   "display_name": "Python 3",
   "language": "python",
   "name": "python3"
  },
  "language_info": {
   "codemirror_mode": {
    "name": "ipython",
    "version": 3
   },
   "file_extension": ".py",
   "mimetype": "text/x-python",
   "name": "python",
   "nbconvert_exporter": "python",
   "pygments_lexer": "ipython3",
   "version": "3.6.8"
  }
 },
 "nbformat": 4,
 "nbformat_minor": 2
}
