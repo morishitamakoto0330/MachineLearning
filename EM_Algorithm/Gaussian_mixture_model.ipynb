{
 "cells": [
  {
   "cell_type": "code",
   "execution_count": 3,
   "metadata": {},
   "outputs": [],
   "source": [
    "# Preparation\n",
    "\n",
    "import os\n",
    "import numpy as np\n",
    "import numpy.random as rd\n",
    "import scipy as sp\n",
    "from scipy import stats as st\n",
    "from collections import Counter\n",
    "\n",
    "import matplotlib\n",
    "from matplotlib import font_manager\n",
    "import matplotlib.pyplot as plt\n",
    "import matplotlib.cm as cm\n",
    "from matplotlib import rc\n",
    "import matplotlib.animation as ani\n",
    "plt.rcParams[\"patch.force_edgecolor\"] = True\n",
    "\n",
    "import seaborn as sns\n",
    "sns.set(style=\"whitegrid\", palette=\"muted\", color_codes=True)\n",
    "sns.set_style(\"whitegrid\", {'grid.linestyle': '--'})\n",
    "red = sns.xkcd_rgb[\"light red\"]\n",
    "green = sns.xkcd_rgb[\"medium green\"]\n",
    "blue = sns.xkcd_rgb[\"denim blue\"]\n",
    "%matplotlib inline\n",
    "\n",
    "# determine OS\n",
    "flag_win32 = False\n",
    "try:\n",
    "    os.uname()\n",
    "except AttributeError:\n",
    "        flag_win32 = True\n",
    "# for Mac setting\n",
    "if not flag_win32:\n",
    "    font_path = '/Library/Fonts/Osaka.ttf'\n",
    "    font_prop = font_manager.FontProperties(fname=font_path)\n",
    "    matplotlib.rcParams['font.family']"
   ]
  },
  {
   "cell_type": "code",
   "execution_count": 5,
   "metadata": {},
   "outputs": [],
   "source": [
    "def calc_likelihood(data, mu, sigma, pi, K):\n",
    "    likelihood = np.zeros((np.sum(n), 3))\n",
    "    for k in range(K):\n",
    "        likelihood[:, k] = [pi[k]*st.multivariate_normal.pdf(d, mu[k], sigma[k]) for d in data]\n",
    "    return likelihood\n",
    "\n",
    "def calc_prob_gmm(data, mu, sigma, pi, K):\n",
    "    return [[pi[k]*st.multivariate_normal.pdf(d, mu[k], sigma[k]) for k in range(K)] for d in data]\n",
    "\n",
    "def print_gmm_contour(mu, sigma, pi, K):\n",
    "    X, Y = np.meshgrid(np.linspace(min_x, max_x), np.linspace(min_y, max_y))\n",
    "    XX = np.array([X.ravel(), Y.ravel()]).T\n",
    "    Z = np.sum(np.asanyarray(calc_prob_gmm(XX, mu, sigma, pi, K)), axis=1)\n",
    "    Z = Z.reshape(X.shape)\n",
    "    CS = plt.contour(X, Y, Z, alpha=0.2, zorder=-100)\n",
    "    \n",
    "    plt.title('pdf contour of a GMM')"
   ]
  },
  {
   "cell_type": "code",
   "execution_count": null,
   "metadata": {},
   "outputs": [],
   "source": [
    "\n",
    "\n",
    "\n",
    "\n",
    "\n",
    "\n",
    "\n",
    "\n",
    "\n",
    "\n",
    "\n",
    "\n",
    "\n",
    "\n",
    "\n",
    "\n",
    "\n",
    "\n",
    "\n",
    "\n",
    "\n",
    "\n",
    "\n",
    "\n",
    "\n",
    "\n",
    "\n"
   ]
  }
 ],
 "metadata": {
  "kernelspec": {
   "display_name": "Python 3",
   "language": "python",
   "name": "python3"
  },
  "language_info": {
   "codemirror_mode": {
    "name": "ipython",
    "version": 3
   },
   "file_extension": ".py",
   "mimetype": "text/x-python",
   "name": "python",
   "nbconvert_exporter": "python",
   "pygments_lexer": "ipython3",
   "version": "3.6.8"
  }
 },
 "nbformat": 4,
 "nbformat_minor": 2
}
